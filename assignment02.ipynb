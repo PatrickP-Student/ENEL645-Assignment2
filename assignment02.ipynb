{
  "nbformat": 4,
  "nbformat_minor": 0,
  "metadata": {
    "colab": {
      "name": "assignment02.ipynb",
      "provenance": [],
      "include_colab_link": true
    },
    "kernelspec": {
      "display_name": "Python 3",
      "language": "python",
      "name": "python3"
    },
    "language_info": {
      "codemirror_mode": {
        "name": "ipython",
        "version": 3
      },
      "file_extension": ".py",
      "mimetype": "text/x-python",
      "name": "python",
      "nbconvert_exporter": "python",
      "pygments_lexer": "ipython3",
      "version": "3.8.5"
    }
  },
  "cells": [
    {
      "cell_type": "markdown",
      "metadata": {
        "id": "view-in-github",
        "colab_type": "text"
      },
      "source": [
        "<a href=\"https://colab.research.google.com/github/PatrickP-Student/ENEL645-Assignment2/blob/main/assignment02.ipynb\" target=\"_parent\"><img src=\"https://colab.research.google.com/assets/colab-badge.svg\" alt=\"Open In Colab\"/></a>"
      ]
    },
    {
      "cell_type": "markdown",
      "metadata": {
        "id": "a90a8sE_abWS"
      },
      "source": [
        "# Assignment 02 - CIFAR10 Image Classification\n",
        "\n",
        "In this assignment your team will design a fully connected neural network and a convolutional neural network (CNN) models for classifiying the CIFAR10 image dataset. The deliverables for the assignment are:\n",
        "\n",
        "1. This jupyter-notebook completed with your solution. I expect you to try different configurations (models, train/validtion split, etc.), but for your submission, leave just the best fully connected and the best CNN models.\n",
        "    - Name the notebook as enel645__assignment02__team_(team number).ipynb\n",
        "2. The weights of your best fully connected neural network model and your best CNN model \n",
        "    - Name the weights files as team__(team number)__FCN.h5 (fully connected model) and team__(team number)__CNN.h5 (CNN model)\n",
        "\n",
        "Submit the three files (notebook + models' weights) to your dropbox in the course D2L page.\n",
        "    \n",
        "We will be using the CIFAR10 dataset. The dataset alerady comes with a test set and you shouldn't change it. It is up to you to determine how to split your development set into training and validation sets. Use variable names consistent with the variables pre-filled in this document.\n",
        "\n",
        "\n",
        "You are free to add extra cells of text and code to this notebook.\n",
        "\n",
        "At the end of the notebook, please include a short description of what each team member did in the assignment. Also include the consensus score between 0 and 3 to each team member. This score will be used to adjust the final \n",
        "grade of each student. Students developing the project individually do not need this description and score.\n",
        "\n",
        "You are being assessed based on (more details in the rubric):\n",
        "\n",
        "1. Code execution - 20% \n",
        "2. Clarity of the code (e.g., easy to follow, has pertinent comments, etc.) - 20%\n",
        "3. Proper usage of the techniques seen in class - 30% \n",
        "4. Accuracy of the models  - 30%\n"
      ]
    },
    {
      "cell_type": "code",
      "metadata": {
        "colab": {
          "base_uri": "https://localhost:8080/"
        },
        "id": "sBc7TtTJLdF_",
        "outputId": "b65e17aa-b99c-42b8-be0f-67cba134be7c"
      },
      "source": [
        "from google.colab import drive\r\n",
        "drive.mount('/content/gdrive')"
      ],
      "execution_count": 3,
      "outputs": [
        {
          "output_type": "stream",
          "text": [
            "Drive already mounted at /content/gdrive; to attempt to forcibly remount, call drive.mount(\"/content/gdrive\", force_remount=True).\n"
          ],
          "name": "stdout"
        }
      ]
    },
    {
      "cell_type": "code",
      "metadata": {
        "id": "PBR9mwL5aX6r"
      },
      "source": [
        "import matplotlib.pylab as plt\n",
        "import numpy as np\n",
        "import tensorflow as tf"
      ],
      "execution_count": 4,
      "outputs": []
    },
    {
      "cell_type": "markdown",
      "metadata": {
        "id": "A_7sCgpWLLZw"
      },
      "source": [
        "## 1. Load your data"
      ]
    },
    {
      "cell_type": "code",
      "metadata": {
        "colab": {
          "base_uri": "https://localhost:8080/"
        },
        "id": "W94KecGabAoB",
        "outputId": "602c91d1-be51-44d6-c688-07e5d4739d3b"
      },
      "source": [
        "(X_dev, Y_dev), (X_test, Y_test) = tf.keras.datasets.cifar10.load_data()\n",
        "\n",
        "print(X_dev.shape)\n",
        "print(X_test.shape)"
      ],
      "execution_count": 5,
      "outputs": [
        {
          "output_type": "stream",
          "text": [
            "Downloading data from https://www.cs.toronto.edu/~kriz/cifar-10-python.tar.gz\n",
            "170500096/170498071 [==============================] - 4s 0us/step\n",
            "(50000, 32, 32, 3)\n",
            "(10000, 32, 32, 3)\n"
          ],
          "name": "stdout"
        }
      ]
    },
    {
      "cell_type": "markdown",
      "metadata": {
        "id": "R0KQWQTcbjUx"
      },
      "source": [
        "## 2. Explore your data "
      ]
    },
    {
      "cell_type": "code",
      "metadata": {
        "id": "L5nnZ7J4LLZy"
      },
      "source": [
        "# Use this space to explore you datasets\n",
        "# Create additional cells as you see fit"
      ],
      "execution_count": null,
      "outputs": []
    },
    {
      "cell_type": "markdown",
      "metadata": {
        "id": "xVWM7oKdLLZz"
      },
      "source": [
        "## 3. Represent your labels using one hot encoding"
      ]
    },
    {
      "cell_type": "code",
      "metadata": {
        "id": "4hKQfNo4LLZz"
      },
      "source": [
        ""
      ],
      "execution_count": null,
      "outputs": []
    },
    {
      "cell_type": "markdown",
      "metadata": {
        "id": "nIoXrr6HLLZz"
      },
      "source": [
        "## 4. Data scaling and Data augmentation"
      ]
    },
    {
      "cell_type": "code",
      "metadata": {
        "id": "HiNJ1BLpLLZz"
      },
      "source": [
        "# Experiment with different data scaling methods\n",
        "\n",
        "# Create your data augmentation object to improve training\n",
        "# set your batch size"
      ],
      "execution_count": null,
      "outputs": []
    },
    {
      "cell_type": "markdown",
      "metadata": {
        "id": "wJ6ep9C0LLZ0"
      },
      "source": [
        "## Fully Connected Model\n",
        "\n",
        "## 5. Define your  model, cost function, optimizer, learning rate"
      ]
    },
    {
      "cell_type": "code",
      "metadata": {
        "id": "IvuYmC4vLLZ0"
      },
      "source": [
        "# Define your model here. Include accuracy in the metrics list when you compile it\n",
        "# Experiment with different network architectures, learnig rates, dropout, etc.\n",
        "def my_model_fully_connected():\n",
        "    \n",
        "    return"
      ],
      "execution_count": null,
      "outputs": []
    },
    {
      "cell_type": "markdown",
      "metadata": {
        "id": "gOR6h2zKLLZ0"
      },
      "source": [
        "## 6. Define your callbacks (save your model, patience, etc.)"
      ]
    },
    {
      "cell_type": "code",
      "metadata": {
        "id": "wbaFiU1-LLZ0"
      },
      "source": [
        "model_name_fcn = \"team_(team number)_FCN.h5\"\n",
        "\n",
        "# define your callbacks\n",
        "# remember that you need to save the weights of your best model!"
      ],
      "execution_count": null,
      "outputs": []
    },
    {
      "cell_type": "markdown",
      "metadata": {
        "id": "Ku4df3WRLLZ1"
      },
      "source": [
        "## 7. Train your model"
      ]
    },
    {
      "cell_type": "code",
      "metadata": {
        "id": "M9jzHAYgLLZ1"
      },
      "source": [
        "# train your model - decide for how many epochs"
      ],
      "execution_count": null,
      "outputs": []
    },
    {
      "cell_type": "markdown",
      "metadata": {
        "id": "56UGNMRxLLZ1"
      },
      "source": [
        "## 8. Test your model"
      ]
    },
    {
      "cell_type": "code",
      "metadata": {
        "id": "N5-D4i3xLLZ1"
      },
      "source": [
        "model.load_weights(model_name_fcn)\n",
        "metrics = model.evaluate(X_test,Y_test_oh)\n",
        "\n",
        "Ypred = model.predict(X_test).argmax(axis = 1)\n",
        "wrong_indexes = np.where(Ypred != Y_test)[0]\n",
        "print(wrong_indexes.size)\n",
        "\n",
        "# Disaplying some samples from the development set\n",
        "sample_indexes = np.random.choice(np.arange(wrong_indexes.shape[0], dtype = int),size = 30, replace = False)\n",
        "plt.figure(figsize = (24,18))\n",
        "for (ii,jj) in enumerate(sample_indexes):\n",
        "    plt.subplot(5,6,ii+1)\n",
        "    plt.imshow(X_test[wrong_indexes[jj]], cmap = \"gray\")\n",
        "    plt.title(\"Label: %d, predicted: %d\" %(Y_test[wrong_indexes[jj]],Ypred[wrong_indexes[jj]]))\n",
        "plt.show()"
      ],
      "execution_count": null,
      "outputs": []
    },
    {
      "cell_type": "markdown",
      "metadata": {
        "id": "MfOhzX97LLZ2"
      },
      "source": [
        "## Convolutional Model\n",
        "\n",
        "## 5. Define your  model, cost function, optimizer, learning rate"
      ]
    },
    {
      "cell_type": "code",
      "metadata": {
        "id": "gcqpRzh8LLZ2"
      },
      "source": [
        "# Define your model here. Include accuracy in the metrics list when you compile it\n",
        "# Experiment with different network architectures, learnig rates, dropout, etc.\n",
        "def my_model_cnn():\n",
        "    \n",
        "    return"
      ],
      "execution_count": null,
      "outputs": []
    },
    {
      "cell_type": "markdown",
      "metadata": {
        "id": "6TLMdcZHLLZ2"
      },
      "source": [
        "## 6. Define your callbacks (save your model, patience, etc.)"
      ]
    },
    {
      "cell_type": "code",
      "metadata": {
        "id": "0AKrq0quLLZ2"
      },
      "source": [
        "model_name_cnn = \"team_(team number)_FCN.h5\"\n",
        "\n",
        "# define your callbacks\n",
        "# remember that you need to save the weights of your best model!"
      ],
      "execution_count": null,
      "outputs": []
    },
    {
      "cell_type": "markdown",
      "metadata": {
        "id": "Wh_DsqH2LLZ2"
      },
      "source": [
        "## 7. Train your model"
      ]
    },
    {
      "cell_type": "code",
      "metadata": {
        "id": "8iYX2K3BLLZ3"
      },
      "source": [
        "# train your model - decide for how many epochs"
      ],
      "execution_count": null,
      "outputs": []
    },
    {
      "cell_type": "markdown",
      "metadata": {
        "id": "0VUqU7s0LLZ3"
      },
      "source": [
        "## 8. Test your model"
      ]
    },
    {
      "cell_type": "code",
      "metadata": {
        "id": "2JS-wcSqLLZ3"
      },
      "source": [
        "model.load_weights(model_name_cnn)\n",
        "metrics = model.evaluate(X_test,Y_test_oh)\n",
        "\n",
        "Ypred = model.predict(X_test).argmax(axis = 1)\n",
        "wrong_indexes = np.where(Ypred != Y_test)[0]\n",
        "print(wrong_indexes.size)\n",
        "\n",
        "# Disaplying some samples from the development set\n",
        "sample_indexes = np.random.choice(np.arange(wrong_indexes.shape[0], dtype = int),size = 30, replace = False)\n",
        "plt.figure(figsize = (24,18))\n",
        "for (ii,jj) in enumerate(sample_indexes):\n",
        "    plt.subplot(5,6,ii+1)\n",
        "    plt.imshow(X_test[wrong_indexes[jj]], cmap = \"gray\")\n",
        "    plt.title(\"Label: %d, predicted: %d\" %(Y_test[wrong_indexes[jj]],Ypred[wrong_indexes[jj]]))\n",
        "plt.show()"
      ],
      "execution_count": null,
      "outputs": []
    },
    {
      "cell_type": "markdown",
      "metadata": {
        "id": "p2aDN6pdLLZ3"
      },
      "source": [
        "##  Team members participtaion\n",
        "(include the description of what each team member did and the consensus score for each team member)\n",
        "\n",
        "- **Arya Stark** helped design the model and write the code for fully connected model (**score 3**)\n",
        "- **Luke Skywalker** helped design helped to implement the data augmentation module (**score 3**)\n",
        "- ..."
      ]
    }
  ]
}