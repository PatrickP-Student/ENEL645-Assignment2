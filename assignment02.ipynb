{
  "nbformat": 4,
  "nbformat_minor": 0,
  "metadata": {
    "colab": {
      "name": "assignment02.ipynb",
      "provenance": [],
      "collapsed_sections": [],
      "include_colab_link": true
    },
    "kernelspec": {
      "display_name": "Python 3",
      "language": "python",
      "name": "python3"
    },
    "language_info": {
      "codemirror_mode": {
        "name": "ipython",
        "version": 3
      },
      "file_extension": ".py",
      "mimetype": "text/x-python",
      "name": "python",
      "nbconvert_exporter": "python",
      "pygments_lexer": "ipython3",
      "version": "3.8.5"
    }
  },
  "cells": [
    {
      "cell_type": "markdown",
      "metadata": {
        "id": "view-in-github",
        "colab_type": "text"
      },
      "source": [
        "<a href=\"https://colab.research.google.com/github/PatrickP-Student/ENEL645-Assignment2/blob/Dev/assignment02.ipynb\" target=\"_parent\"><img src=\"https://colab.research.google.com/assets/colab-badge.svg\" alt=\"Open In Colab\"/></a>"
      ]
    },
    {
      "cell_type": "markdown",
      "metadata": {
        "id": "a90a8sE_abWS"
      },
      "source": [
        "# Assignment 02 - CIFAR10 Image Classification\n",
        "\n",
        "In this assignment your team will design a fully connected neural network and a convolutional neural network (CNN) models for classifiying the CIFAR10 image dataset. The deliverables for the assignment are:\n",
        "\n",
        "1. This jupyter-notebook completed with your solution. I expect you to try different configurations (models, train/validtion split, etc.), but for your submission, leave just the best fully connected and the best CNN models.\n",
        "    - Name the notebook as enel645__assignment02__team_(team number).ipynb\n",
        "2. The weights of your best fully connected neural network model and your best CNN model \n",
        "    - Name the weights files as team__(team number)__FCN.h5 (fully connected model) and team__(team number)__CNN.h5 (CNN model)\n",
        "\n",
        "Submit the three files (notebook + models' weights) to your dropbox in the course D2L page.\n",
        "    \n",
        "We will be using the CIFAR10 dataset. The dataset alerady comes with a test set and you shouldn't change it. It is up to you to determine how to split your development set into training and validation sets. Use variable names consistent with the variables pre-filled in this document.\n",
        "\n",
        "\n",
        "You are free to add extra cells of text and code to this notebook.\n",
        "\n",
        "At the end of the notebook, please include a short description of what each team member did in the assignment. Also include the consensus score between 0 and 3 to each team member. This score will be used to adjust the final \n",
        "grade of each student. Students developing the project individually do not need this description and score.\n",
        "\n",
        "You are being assessed based on (more details in the rubric):\n",
        "\n",
        "1. Code execution - 20% \n",
        "2. Clarity of the code (e.g., easy to follow, has pertinent comments, etc.) - 20%\n",
        "3. Proper usage of the techniques seen in class - 30% \n",
        "4. Accuracy of the models  - 30%\n"
      ]
    },
    {
      "cell_type": "code",
      "metadata": {
        "colab": {
          "base_uri": "https://localhost:8080/"
        },
        "id": "sBc7TtTJLdF_",
        "outputId": "b65e17aa-b99c-42b8-be0f-67cba134be7c"
      },
      "source": [
        "from google.colab import drive\r\n",
        "drive.mount('/content/gdrive')"
      ],
      "execution_count": 3,
      "outputs": [
        {
          "output_type": "stream",
          "text": [
            "Drive already mounted at /content/gdrive; to attempt to forcibly remount, call drive.mount(\"/content/gdrive\", force_remount=True).\n"
          ],
          "name": "stdout"
        }
      ]
    },
    {
      "cell_type": "code",
      "metadata": {
        "id": "PBR9mwL5aX6r"
      },
      "source": [
        "import matplotlib.pylab as plt\n",
        "import numpy as np\n",
        "import tensorflow as tf\n",
        "from tensorflow.keras.utils import to_categorical\n",
        "from tensorflow.keras.models import Model\n",
        "from tensorflow.keras.layers import Dense, Activation, Input\n",
        "from tensorflow.keras.optimizers import SGD"
      ],
      "execution_count": 9,
      "outputs": []
    },
    {
      "cell_type": "markdown",
      "metadata": {
        "id": "A_7sCgpWLLZw"
      },
      "source": [
        "## 1. Load your data"
      ]
    },
    {
      "cell_type": "code",
      "metadata": {
        "colab": {
          "base_uri": "https://localhost:8080/"
        },
        "id": "W94KecGabAoB",
        "outputId": "d3e21d0c-ad92-4152-8c8d-f660f4a0c4fc"
      },
      "source": [
        "(X_dev, Y_dev), (X_test, Y_test) = tf.keras.datasets.cifar10.load_data()\n",
        "\n",
        "print('Development set: ', X_dev.shape)\n",
        "print('Test set: ', X_test.shape)\n",
        "print('Number of unique classes: ',np.unique(Y_dev).size)\n",
        "print('Unique classes: ',np.unique(Y_dev))"
      ],
      "execution_count": 26,
      "outputs": [
        {
          "output_type": "stream",
          "text": [
            "Development set:  (50000, 32, 32, 3)\n",
            "Test set:  (10000, 32, 32, 3)\n",
            "Number of unique classes:  10\n",
            "Unique classes:  [0 1 2 3 4 5 6 7 8 9]\n"
          ],
          "name": "stdout"
        }
      ]
    },
    {
      "cell_type": "markdown",
      "metadata": {
        "id": "R0KQWQTcbjUx"
      },
      "source": [
        "## 2. Explore your data "
      ]
    },
    {
      "cell_type": "code",
      "metadata": {
        "colab": {
          "base_uri": "https://localhost:8080/",
          "height": 295
        },
        "id": "ZhgyI51-THMd",
        "outputId": "2bbbcc4e-d355-451f-f85c-e03efc28c59c"
      },
      "source": [
        "plt.figure()\r\n",
        "plt.hist(Y_dev, bins = range(11))\r\n",
        "plt.xlabel('Data Labels')\r\n",
        "plt.ylabel('Frequency')\r\n",
        "plt.title('CIFAR10 Dataset')\r\n",
        "plt.show()"
      ],
      "execution_count": 23,
      "outputs": [
        {
          "output_type": "display_data",
          "data": {
            "image/png": "[encoded data removed]",
            "text/plain": [
              "<Figure size 432x288 with 1 Axes>"
            ]
          },
          "metadata": {
            "tags": [],
            "needs_background": "light"
          }
        }
      ]
    },
    {
      "cell_type": "code",
      "metadata": {
        "id": "4hKQfNo4LLZz"
      },
      "source": [
        "# shuffle the dataset first \r\n",
        "indexes = np.arange(Y_dev.size, dtype=int)\r\n",
        "np.random.shuffle(indexes)\r\n",
        "X_dev = X_dev[indexes]\r\n",
        "Y_dev = Y_dev[indexes]"
      ],
      "execution_count": 27,
      "outputs": []
    },
    {
      "cell_type": "code",
      "metadata": {
        "colab": {
          "base_uri": "https://localhost:8080/"
        },
        "id": "HH_lnXOQV-zo",
        "outputId": "3d0afdb5-1ca1-474b-eea2-1fd215463642"
      },
      "source": [
        "# split the data into training and validation sets\r\n",
        "nsplit = int (0.8*Y_dev.size) # split into 80% training, and 20% validation\r\n",
        "\r\n",
        "X_train = X_dev[:nsplit]\r\n",
        "Y_train = Y_dev[:nsplit]\r\n",
        "\r\n",
        "X_val = X_dev[nsplit:]\r\n",
        "Y_val = Y_dev[nsplit:]\r\n",
        "\r\n",
        "print('Shape of training dataset:',X_train.shape)\r\n",
        "print('Shape of validation dataset:',X_val.shape)"
      ],
      "execution_count": 28,
      "outputs": [
        {
          "output_type": "stream",
          "text": [
            "Shape of training dataset: (40000, 32, 32, 3)\n",
            "Shape of validation dataset: (10000, 32, 32, 3)\n"
          ],
          "name": "stdout"
        }
      ]
    },
    {
      "cell_type": "code",
      "metadata": {
        "colab": {
          "base_uri": "https://localhost:8080/"
        },
        "id": "L5nnZ7J4LLZy",
        "outputId": "67e45f55-207a-497e-f80b-5fe5319b1768"
      },
      "source": [
        "print('Development set ->   min:',X_train.min(),'max:',X_train.max(),'mean:',round(X_train.mean(),3),'std:',round(X_train.std(),3))\n",
        "print('Test set ->   min:',X_val.min(),'max:',X_val.max(),'mean:',round(X_val.mean(),3),'std:',round(X_val.std(),3))"
      ],
      "execution_count": 30,
      "outputs": [
        {
          "output_type": "stream",
          "text": [
            "Development set ->   min: 0 max: 255 mean: 120.701 std: 64.162\n",
            "Test set ->   min: 0 max: 255 mean: 120.735 std: 64.103\n"
          ],
          "name": "stdout"
        }
      ]
    },
    {
      "cell_type": "markdown",
      "metadata": {
        "id": "c4xw2I7VXJTm"
      },
      "source": [
        "Since the desciptive statistics between the training and validation datasets are very similar, that shows our data is distributely evenly and balanced."
      ]
    },
    {
      "cell_type": "markdown",
      "metadata": {
        "id": "xVWM7oKdLLZz"
      },
      "source": [
        "## 3. Represent your labels using one hot encoding"
      ]
    },
    {
      "cell_type": "code",
      "metadata": {
        "colab": {
          "base_uri": "https://localhost:8080/"
        },
        "id": "IzLwoZiGVqOA",
        "outputId": "a37d9f54-b27a-4d8b-8604-d882f2fac473"
      },
      "source": [
        "Y_train_oh = tf.keras.utils.to_categorical(Y_train)\r\n",
        "Y_val_oh = tf.keras.utils.to_categorical(Y_val)\r\n",
        "Y_test_oh = tf.keras.utils.to_categorical(Y_test)\r\n",
        "\r\n",
        "# now, we can visualize what encoding this vector causes the data to look like\r\n",
        "print('Before encoding this vector:\\n',Y_train[:5])\r\n",
        "print()\r\n",
        "print('After encoding this vector:\\n',Y_train_oh[:5])"
      ],
      "execution_count": 33,
      "outputs": [
        {
          "output_type": "stream",
          "text": [
            "Before encoding this vector:\n",
            " [[9]\n",
            " [8]\n",
            " [7]\n",
            " [7]\n",
            " [4]]\n",
            "\n",
            "After encoding this vector:\n",
            " [[0. 0. 0. 0. 0. 0. 0. 0. 0. 1.]\n",
            " [0. 0. 0. 0. 0. 0. 0. 0. 1. 0.]\n",
            " [0. 0. 0. 0. 0. 0. 0. 1. 0. 0.]\n",
            " [0. 0. 0. 0. 0. 0. 0. 1. 0. 0.]\n",
            " [0. 0. 0. 0. 1. 0. 0. 0. 0. 0.]]\n"
          ],
          "name": "stdout"
        }
      ]
    },
    {
      "cell_type": "markdown",
      "metadata": {
        "id": "nIoXrr6HLLZz"
      },
      "source": [
        "## 4. Data scaling and Data augmentation"
      ]
    },
    {
      "cell_type": "code",
      "metadata": {
        "id": "HiNJ1BLpLLZz"
      },
      "source": [
        "# Different Data Scaling options\n",
        "# 0 is min-max normalization and 1 is mean/std normalization\n",
        "norm_type = 0 \n",
        "\n",
        "if norm_type == 0:\n",
        "  X_train = X_train/X_train.max()\n",
        "  X_val = X_val/X_val.max()\n",
        "  X_test = X_test/X_test.max()\n",
        "elif norm_type == 1:\n",
        "  train_mean = X_train.mean()\n",
        "  train_std = X_train.std()\n",
        "  X_train = (X_train - train_mean)/train_std\n",
        "  X_val = (X_val - train_mean)/train_std\n",
        "  X_test = (X_test - train_mean)/train_std\n",
        "else: # this will simulate if the data is not normalized at all\n",
        "  pass"
      ],
      "execution_count": 34,
      "outputs": []
    },
    {
      "cell_type": "code",
      "metadata": {
        "id": "cS4atw_hZIaX"
      },
      "source": [
        "# Data augmentation object to improve training\r\n",
        "\r\n",
        "# Set batch size\r\n",
        "batch_size = 32\r\n",
        "gen_params = {'featurewise_center':False, 'samplewise_center':False, 'featurewise_std_normalization':False, 'samplewise_std_normalization':False, 'zca_whitening':False, 'rotation_range':30, 'width_shift_range':0.15,\\\r\n",
        "    'height_shift_range':0.15, 'shear_range':0.2, 'zoom_range':0.2, 'horizontal_flip':True, 'vertical_flip':True, 'fill_mode': 'constant', 'cval':0}\r\n",
        "\r\n",
        "train_gen = tf.keras.preprocessing.image.ImageDataGenerator(gen_params)\r\n",
        "val_gen = tf.keras.preprocessing.image.ImageDataGenerator(gen_params)\r\n",
        "\r\n",
        "train_gen.fit(X_train, seed = 1)\r\n",
        "val_gen.fit(X_val, seed = 1)\r\n",
        "\r\n",
        "# augmented datasets\r\n",
        "train_flow = train_gen.flow(X_train, Y_train, Y_train_oh, batch_size)\r\n",
        "val_flow = train_gen.flow(X_val, Y_val, Y_val_oh, batch_size)"
      ],
      "execution_count": 45,
      "outputs": []
    },
    {
      "cell_type": "code",
      "metadata": {
        "colab": {
          "base_uri": "https://localhost:8080/",
          "height": 401
        },
        "id": "nzSoo7B5cIGe",
        "outputId": "13c80892-33ad-4531-b3cb-f505092c86b9"
      },
      "source": [
        "# now, lets visualize what augmenting the data actually looks like\r\n",
        "# this still needs work\r\n",
        "\r\n",
        "plt.figure(figsize= (32,24))\r\n",
        "Xbatch, Ybatch = train_flow.__getitem__(0)\r\n",
        "print(round(Xbatch.mean(),3), round(Xbatch.std(),3))\r\n",
        "print(Xbatch.min(), Xbatch.max())\r\n",
        "for ii in range(batch_size):\r\n",
        "  plt.subplot(7, 5, ii+1)\r\n",
        "  plt.imshow((Xbatch[ii] - Xbatch[ii].min())/(Xbatch.max() - Xbatch[ii].min()), cmap='gray')\r\n",
        "  plt.title('Label: %s' %class_names[int(Ybatch[ii].argmax())])\r\n",
        "plt.show()"
      ],
      "execution_count": 46,
      "outputs": [
        {
          "output_type": "stream",
          "text": [
            "/usr/local/lib/python3.6/dist-packages/keras_preprocessing/image/iterator.py:68: RuntimeWarning: invalid value encountered in floor_divide\n",
            "  return (self.n + self.batch_size - 1) // self.batch_size  # round up\n"
          ],
          "name": "stderr"
        },
        {
          "output_type": "error",
          "ename": "TypeError",
          "evalue": "ignored",
          "traceback": [
            "\u001b[0;31m---------------------------------------------------------------------------\u001b[0m",
            "\u001b[0;31mTypeError\u001b[0m                                 Traceback (most recent call last)",
            "\u001b[0;32m<ipython-input-46-bf3669285fc0>\u001b[0m in \u001b[0;36m<module>\u001b[0;34m()\u001b[0m\n\u001b[1;32m      2\u001b[0m \u001b[0;34m\u001b[0m\u001b[0m\n\u001b[1;32m      3\u001b[0m \u001b[0mplt\u001b[0m\u001b[0;34m.\u001b[0m\u001b[0mfigure\u001b[0m\u001b[0;34m(\u001b[0m\u001b[0mfigsize\u001b[0m\u001b[0;34m=\u001b[0m \u001b[0;34m(\u001b[0m\u001b[0;36m32\u001b[0m\u001b[0;34m,\u001b[0m\u001b[0;36m24\u001b[0m\u001b[0;34m)\u001b[0m\u001b[0;34m)\u001b[0m\u001b[0;34m\u001b[0m\u001b[0;34m\u001b[0m\u001b[0m\n\u001b[0;32m----> 4\u001b[0;31m \u001b[0mXbatch\u001b[0m\u001b[0;34m,\u001b[0m \u001b[0mYbatch\u001b[0m \u001b[0;34m=\u001b[0m \u001b[0mtrain_flow\u001b[0m\u001b[0;34m.\u001b[0m\u001b[0m__getitem__\u001b[0m\u001b[0;34m(\u001b[0m\u001b[0;36m0\u001b[0m\u001b[0;34m)\u001b[0m\u001b[0;34m\u001b[0m\u001b[0;34m\u001b[0m\u001b[0m\n\u001b[0m\u001b[1;32m      5\u001b[0m \u001b[0mprint\u001b[0m\u001b[0;34m(\u001b[0m\u001b[0mround\u001b[0m\u001b[0;34m(\u001b[0m\u001b[0mXbatch\u001b[0m\u001b[0;34m.\u001b[0m\u001b[0mmean\u001b[0m\u001b[0;34m(\u001b[0m\u001b[0;34m)\u001b[0m\u001b[0;34m,\u001b[0m\u001b[0;36m3\u001b[0m\u001b[0;34m)\u001b[0m\u001b[0;34m,\u001b[0m \u001b[0mround\u001b[0m\u001b[0;34m(\u001b[0m\u001b[0mXbatch\u001b[0m\u001b[0;34m.\u001b[0m\u001b[0mstd\u001b[0m\u001b[0;34m(\u001b[0m\u001b[0;34m)\u001b[0m\u001b[0;34m,\u001b[0m\u001b[0;36m3\u001b[0m\u001b[0;34m)\u001b[0m\u001b[0;34m)\u001b[0m\u001b[0;34m\u001b[0m\u001b[0;34m\u001b[0m\u001b[0m\n\u001b[1;32m      6\u001b[0m \u001b[0mprint\u001b[0m\u001b[0;34m(\u001b[0m\u001b[0mXbatch\u001b[0m\u001b[0;34m.\u001b[0m\u001b[0mmin\u001b[0m\u001b[0;34m(\u001b[0m\u001b[0;34m)\u001b[0m\u001b[0;34m,\u001b[0m \u001b[0mXbatch\u001b[0m\u001b[0;34m.\u001b[0m\u001b[0mmax\u001b[0m\u001b[0;34m(\u001b[0m\u001b[0;34m)\u001b[0m\u001b[0;34m)\u001b[0m\u001b[0;34m\u001b[0m\u001b[0;34m\u001b[0m\u001b[0m\n",
            "\u001b[0;32m/usr/local/lib/python3.6/dist-packages/keras_preprocessing/image/iterator.py\u001b[0m in \u001b[0;36m__getitem__\u001b[0;34m(self, idx)\u001b[0m\n\u001b[1;32m     51\u001b[0m \u001b[0;34m\u001b[0m\u001b[0m\n\u001b[1;32m     52\u001b[0m     \u001b[0;32mdef\u001b[0m \u001b[0m__getitem__\u001b[0m\u001b[0;34m(\u001b[0m\u001b[0mself\u001b[0m\u001b[0;34m,\u001b[0m \u001b[0midx\u001b[0m\u001b[0;34m)\u001b[0m\u001b[0;34m:\u001b[0m\u001b[0;34m\u001b[0m\u001b[0;34m\u001b[0m\u001b[0m\n\u001b[0;32m---> 53\u001b[0;31m         \u001b[0;32mif\u001b[0m \u001b[0midx\u001b[0m \u001b[0;34m>=\u001b[0m \u001b[0mlen\u001b[0m\u001b[0;34m(\u001b[0m\u001b[0mself\u001b[0m\u001b[0;34m)\u001b[0m\u001b[0;34m:\u001b[0m\u001b[0;34m\u001b[0m\u001b[0;34m\u001b[0m\u001b[0m\n\u001b[0m\u001b[1;32m     54\u001b[0m             raise ValueError('Asked to retrieve element {idx}, '\n\u001b[1;32m     55\u001b[0m                              \u001b[0;34m'but the Sequence '\u001b[0m\u001b[0;34m\u001b[0m\u001b[0;34m\u001b[0m\u001b[0m\n",
            "\u001b[0;31mTypeError\u001b[0m: only integer scalar arrays can be converted to a scalar index"
          ]
        },
        {
          "output_type": "display_data",
          "data": {
            "text/plain": [
              "<Figure size 2304x1728 with 0 Axes>"
            ]
          },
          "metadata": {
            "tags": []
          }
        }
      ]
    },
    {
      "cell_type": "markdown",
      "metadata": {
        "id": "wJ6ep9C0LLZ0"
      },
      "source": [
        "## Fully Connected Model\n",
        "\n",
        "## 5. Define your  model, cost function, optimizer, learning rate"
      ]
    },
    {
      "cell_type": "code",
      "metadata": {
        "id": "IvuYmC4vLLZ0"
      },
      "source": [
        "# Define your model here. Include accuracy in the metrics list when you compile it\n",
        "# Experiment with different network architectures, learnig rates, dropout, etc.\n",
        "def my_model_fully_connected():\n",
        "    \n",
        "    return"
      ],
      "execution_count": null,
      "outputs": []
    },
    {
      "cell_type": "markdown",
      "metadata": {
        "id": "gOR6h2zKLLZ0"
      },
      "source": [
        "## 6. Define your callbacks (save your model, patience, etc.)"
      ]
    },
    {
      "cell_type": "code",
      "metadata": {
        "id": "wbaFiU1-LLZ0"
      },
      "source": [
        "model_name_fcn = \"team_(team number)_FCN.h5\"\n",
        "\n",
        "# define your callbacks\n",
        "# remember that you need to save the weights of your best model!"
      ],
      "execution_count": null,
      "outputs": []
    },
    {
      "cell_type": "markdown",
      "metadata": {
        "id": "Ku4df3WRLLZ1"
      },
      "source": [
        "## 7. Train your model"
      ]
    },
    {
      "cell_type": "code",
      "metadata": {
        "id": "M9jzHAYgLLZ1"
      },
      "source": [
        "# train your model - decide for how many epochs"
      ],
      "execution_count": null,
      "outputs": []
    },
    {
      "cell_type": "markdown",
      "metadata": {
        "id": "56UGNMRxLLZ1"
      },
      "source": [
        "## 8. Test your model"
      ]
    },
    {
      "cell_type": "code",
      "metadata": {
        "id": "N5-D4i3xLLZ1"
      },
      "source": [
        "model.load_weights(model_name_fcn)\n",
        "metrics = model.evaluate(X_test,Y_test_oh)\n",
        "\n",
        "Ypred = model.predict(X_test).argmax(axis = 1)\n",
        "wrong_indexes = np.where(Ypred != Y_test)[0]\n",
        "print(wrong_indexes.size)\n",
        "\n",
        "# Disaplying some samples from the development set\n",
        "sample_indexes = np.random.choice(np.arange(wrong_indexes.shape[0], dtype = int),size = 30, replace = False)\n",
        "plt.figure(figsize = (24,18))\n",
        "for (ii,jj) in enumerate(sample_indexes):\n",
        "    plt.subplot(5,6,ii+1)\n",
        "    plt.imshow(X_test[wrong_indexes[jj]], cmap = \"gray\")\n",
        "    plt.title(\"Label: %d, predicted: %d\" %(Y_test[wrong_indexes[jj]],Ypred[wrong_indexes[jj]]))\n",
        "plt.show()"
      ],
      "execution_count": null,
      "outputs": []
    },
    {
      "cell_type": "markdown",
      "metadata": {
        "id": "MfOhzX97LLZ2"
      },
      "source": [
        "## Convolutional Model\n",
        "\n",
        "## 5. Define your  model, cost function, optimizer, learning rate"
      ]
    },
    {
      "cell_type": "code",
      "metadata": {
        "id": "gcqpRzh8LLZ2"
      },
      "source": [
        "# Define your model here. Include accuracy in the metrics list when you compile it\n",
        "# Experiment with different network architectures, learnig rates, dropout, etc.\n",
        "def my_model_cnn():\n",
        "    \n",
        "    return"
      ],
      "execution_count": null,
      "outputs": []
    },
    {
      "cell_type": "markdown",
      "metadata": {
        "id": "6TLMdcZHLLZ2"
      },
      "source": [
        "## 6. Define your callbacks (save your model, patience, etc.)"
      ]
    },
    {
      "cell_type": "code",
      "metadata": {
        "id": "0AKrq0quLLZ2"
      },
      "source": [
        "model_name_cnn = \"team_(team number)_FCN.h5\"\n",
        "\n",
        "# define your callbacks\n",
        "# remember that you need to save the weights of your best model!"
      ],
      "execution_count": null,
      "outputs": []
    },
    {
      "cell_type": "markdown",
      "metadata": {
        "id": "Wh_DsqH2LLZ2"
      },
      "source": [
        "## 7. Train your model"
      ]
    },
    {
      "cell_type": "code",
      "metadata": {
        "id": "8iYX2K3BLLZ3"
      },
      "source": [
        "# train your model - decide for how many epochs"
      ],
      "execution_count": null,
      "outputs": []
    },
    {
      "cell_type": "markdown",
      "metadata": {
        "id": "0VUqU7s0LLZ3"
      },
      "source": [
        "## 8. Test your model"
      ]
    },
    {
      "cell_type": "code",
      "metadata": {
        "id": "2JS-wcSqLLZ3"
      },
      "source": [
        "model.load_weights(model_name_cnn)\n",
        "metrics = model.evaluate(X_test,Y_test_oh)\n",
        "\n",
        "Ypred = model.predict(X_test).argmax(axis = 1)\n",
        "wrong_indexes = np.where(Ypred != Y_test)[0]\n",
        "print(wrong_indexes.size)\n",
        "\n",
        "# Disaplying some samples from the development set\n",
        "sample_indexes = np.random.choice(np.arange(wrong_indexes.shape[0], dtype = int),size = 30, replace = False)\n",
        "plt.figure(figsize = (24,18))\n",
        "for (ii,jj) in enumerate(sample_indexes):\n",
        "    plt.subplot(5,6,ii+1)\n",
        "    plt.imshow(X_test[wrong_indexes[jj]], cmap = \"gray\")\n",
        "    plt.title(\"Label: %d, predicted: %d\" %(Y_test[wrong_indexes[jj]],Ypred[wrong_indexes[jj]]))\n",
        "plt.show()"
      ],
      "execution_count": null,
      "outputs": []
    },
    {
      "cell_type": "markdown",
      "metadata": {
        "id": "p2aDN6pdLLZ3"
      },
      "source": [
        "##  Team members participtaion\n",
        "(include the description of what each team member did and the consensus score for each team member)\n",
        "\n",
        "- **Arya Stark** helped design the model and write the code for fully connected model (**score 3**)\n",
        "- **Luke Skywalker** helped design helped to implement the data augmentation module (**score 3**)\n",
        "- ..."
      ]
    }
  ]
}